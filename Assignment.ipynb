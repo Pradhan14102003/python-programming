{
  "nbformat": 4,
  "nbformat_minor": 0,
  "metadata": {
    "colab": {
      "provenance": [],
      "authorship_tag": "ABX9TyPSaw2jlSeHnN9njQvOUW/l",
      "include_colab_link": true
    },
    "kernelspec": {
      "name": "python3",
      "display_name": "Python 3"
    },
    "language_info": {
      "name": "python"
    }
  },
  "cells": [
    {
      "cell_type": "markdown",
      "metadata": {
        "id": "view-in-github",
        "colab_type": "text"
      },
      "source": [
        "<a href=\"https://colab.research.google.com/github/Pradhan14102003/python-programming/blob/main/Assignment.ipynb\" target=\"_parent\"><img src=\"https://colab.research.google.com/assets/colab-badge.svg\" alt=\"Open In Colab\"/></a>"
      ]
    },
    {
      "cell_type": "code",
      "execution_count": null,
      "metadata": {
        "id": "U-X5bSaD2w40"
      },
      "outputs": [],
      "source": []
    },
    {
      "cell_type": "markdown",
      "source": [
        "***Assignment***"
      ],
      "metadata": {
        "id": "Mcbh1xfw2xZP"
      }
    },
    {
      "cell_type": "markdown",
      "source": [
        "1.Finding average of marks for the subjects"
      ],
      "metadata": {
        "id": "o-hWRnkW2_7B"
      }
    },
    {
      "cell_type": "code",
      "source": [
        "science_marks=int(input(\"Enter the science marks\"))\n",
        "math_marks=int(input(\"Enter the maths marks\"))\n",
        "social_marks=int(input(\"Enter the social marks\"))\n",
        "sum=science_marks+math_marks+social_marks\n",
        "average=sum//3\n",
        "print(average)"
      ],
      "metadata": {
        "colab": {
          "base_uri": "https://localhost:8080/"
        },
        "id": "hrTGEpTi20OH",
        "outputId": "698e6f0f-1417-476a-da1a-e4baa3eecb97"
      },
      "execution_count": 3,
      "outputs": [
        {
          "output_type": "stream",
          "name": "stdout",
          "text": [
            "Enter the science marks90\n",
            "Enter the maths marks80\n",
            "Enter the social marks78\n",
            "82\n"
          ]
        }
      ]
    },
    {
      "cell_type": "markdown",
      "source": [
        "2.Area of circle"
      ],
      "metadata": {
        "id": "egj4Lkai4H6t"
      }
    },
    {
      "cell_type": "code",
      "source": [
        "r=5\n",
        "area=3.14*r*r\n",
        "print(area)"
      ],
      "metadata": {
        "colab": {
          "base_uri": "https://localhost:8080/"
        },
        "id": "XfMzN-dT4Y78",
        "outputId": "c359de31-3f47-4ae4-d925-1f841e1d5632"
      },
      "execution_count": 4,
      "outputs": [
        {
          "output_type": "stream",
          "name": "stdout",
          "text": [
            "78.5\n"
          ]
        }
      ]
    },
    {
      "cell_type": "markdown",
      "source": [
        "3.day of week"
      ],
      "metadata": {
        "id": "DKqdtNMr40c2"
      }
    },
    {
      "cell_type": "code",
      "source": [
        "day=int(input(\"Enter the day of week number\"))\n",
        "if day==1:\n",
        "  print(\"The day is Monday\")\n",
        "elif day==2:\n",
        "  print(\"The day is Tuesday\")\n",
        "elif day==3:\n",
        "  print(\"The day is Wednasday\")\n",
        "elif day==4:\n",
        "  print(\"The day is Thursday\")\n",
        "elif day==5:\n",
        "  print(\"The day is Friday\")\n",
        "elif day==6:\n",
        "  print(\"The day is Saturday\")\n",
        "elif day==7:\n",
        "  print(\"The day is Sunday\")\n",
        "else:\n",
        "  print(\"Enter valid number\")"
      ],
      "metadata": {
        "colab": {
          "base_uri": "https://localhost:8080/"
        },
        "id": "-qmIowxj44Hl",
        "outputId": "c55dd168-b845-422f-de40-3a6fac9afdfc"
      },
      "execution_count": 5,
      "outputs": [
        {
          "output_type": "stream",
          "name": "stdout",
          "text": [
            "Enter the day of week number5\n",
            "The day is Friday\n"
          ]
        }
      ]
    },
    {
      "cell_type": "markdown",
      "source": [
        "4. Even or Odd number"
      ],
      "metadata": {
        "id": "3uSYy2BM5AY_"
      }
    },
    {
      "cell_type": "code",
      "source": [
        "num=int(input(\"enter the number\"))\n",
        "if num%2==0:\n",
        "  print(\"the number is even\")\n",
        "else:\n",
        "  print(\"the number is odd\")"
      ],
      "metadata": {
        "colab": {
          "base_uri": "https://localhost:8080/"
        },
        "id": "43RvdWYb5xnj",
        "outputId": "32b42b19-eda6-4c23-9612-206c3a537074"
      },
      "execution_count": 11,
      "outputs": [
        {
          "output_type": "stream",
          "name": "stdout",
          "text": [
            "enter the number20\n",
            "the number is even\n"
          ]
        }
      ]
    },
    {
      "cell_type": "markdown",
      "source": [
        "5.Area of rectangle"
      ],
      "metadata": {
        "id": "sHSuk8508c1w"
      }
    },
    {
      "cell_type": "code",
      "source": [
        "l=5\n",
        "b=10\n",
        "area_rect=l*b\n",
        "print(area_rect)"
      ],
      "metadata": {
        "colab": {
          "base_uri": "https://localhost:8080/"
        },
        "id": "S_wmIi3K8rTq",
        "outputId": "2fe00131-5ebc-4315-d922-2c974133f2ea"
      },
      "execution_count": 12,
      "outputs": [
        {
          "output_type": "stream",
          "name": "stdout",
          "text": [
            "50\n"
          ]
        }
      ]
    }
  ]
}