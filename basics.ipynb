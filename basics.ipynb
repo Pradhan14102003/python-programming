{
  "nbformat": 4,
  "nbformat_minor": 0,
  "metadata": {
    "colab": {
      "provenance": [],
      "authorship_tag": "ABX9TyNDVhsZWxOv31aKbiG5NoXU",
      "include_colab_link": true
    },
    "kernelspec": {
      "name": "python3",
      "display_name": "Python 3"
    },
    "language_info": {
      "name": "python"
    }
  },
  "cells": [
    {
      "cell_type": "markdown",
      "metadata": {
        "id": "view-in-github",
        "colab_type": "text"
      },
      "source": [
        "<a href=\"https://colab.research.google.com/github/Pradhan14102003/python-programming/blob/main/basics.ipynb\" target=\"_parent\"><img src=\"https://colab.research.google.com/assets/colab-badge.svg\" alt=\"Open In Colab\"/></a>"
      ]
    },
    {
      "cell_type": "markdown",
      "source": [
        "***My First Program***"
      ],
      "metadata": {
        "id": "NqzY_gQDAxMm"
      }
    },
    {
      "cell_type": "code",
      "source": [
        "print(\"hello\")"
      ],
      "metadata": {
        "colab": {
          "base_uri": "https://localhost:8080/"
        },
        "id": "R3pA8FiVA59e",
        "outputId": "54643342-3efd-42c6-ed93-6452f6ae6bf5"
      },
      "execution_count": null,
      "outputs": [
        {
          "output_type": "stream",
          "name": "stdout",
          "text": [
            "hello\n"
          ]
        }
      ]
    },
    {
      "cell_type": "markdown",
      "source": [
        "***Variable declaration in python***"
      ],
      "metadata": {
        "id": "MVPXnYwUChvU"
      }
    },
    {
      "cell_type": "code",
      "source": [
        "a=5\n",
        "b=9\n",
        "sum=a+b\n",
        "print(sum)\n",
        "print(\"sum\")"
      ],
      "metadata": {
        "colab": {
          "base_uri": "https://localhost:8080/"
        },
        "id": "7werk53GC2sd",
        "outputId": "43d04242-e723-474c-89cc-8b3a8f160957"
      },
      "execution_count": null,
      "outputs": [
        {
          "output_type": "stream",
          "name": "stdout",
          "text": [
            "14\n",
            "sum\n"
          ]
        }
      ]
    },
    {
      "cell_type": "markdown",
      "source": [
        "***Assignment-1***"
      ],
      "metadata": {
        "id": "Zyr5KHUiSZdE"
      }
    },
    {
      "cell_type": "code",
      "source": [
        "import math\n",
        "a=5\n",
        "b=13\n",
        "c=10\n",
        "d=9\n",
        "diff=a-b-c\n",
        "mul=a*b\n",
        "div=b/a\n",
        "rem=b%a\n",
        "sqr=a*a\n",
        "root=math.sqrt(d)\n",
        "print(\"difference between\" ,a, b, \"and\", c,\"is\",diff)\n",
        "print(\"product between\" , a, b,\"is\",mul )\n",
        "print(b,\"divided by\",a,\"is\",div)\n",
        "print(\"reminder of 13/5 is\",rem)\n",
        "print(\"square root of\", d, \"is\",root)"
      ],
      "metadata": {
        "colab": {
          "base_uri": "https://localhost:8080/"
        },
        "id": "M_tIOPxhFA5Q",
        "outputId": "d8c470e5-0f0e-4b60-80d4-42d1b8fe0a6d"
      },
      "execution_count": null,
      "outputs": [
        {
          "output_type": "stream",
          "name": "stdout",
          "text": [
            "difference between 5 13 and 10 is -18\n",
            "product between 5 13 is 65\n",
            "13 divided by 5 is 2.6\n",
            "reminder of 13/5 is 3\n",
            "square root of 9 is 3.0\n"
          ]
        }
      ]
    },
    {
      "cell_type": "markdown",
      "source": [
        "***Data types***"
      ],
      "metadata": {
        "id": "4A5DjpU7MHNX"
      }
    },
    {
      "cell_type": "code",
      "source": [
        "name2=\"He & 123\"\n",
        "print(type(name2))"
      ],
      "metadata": {
        "colab": {
          "base_uri": "https://localhost:8080/"
        },
        "id": "HaChzfm9MeW1",
        "outputId": "e5e4ab85-4e31-41f0-a310-7b750fbe557f"
      },
      "execution_count": null,
      "outputs": [
        {
          "output_type": "stream",
          "name": "stdout",
          "text": [
            "<class 'str'>\n"
          ]
        }
      ]
    },
    {
      "cell_type": "code",
      "source": [
        "name=\"Hello\"\n",
        "print(type(name))"
      ],
      "metadata": {
        "colab": {
          "base_uri": "https://localhost:8080/"
        },
        "id": "i1OxjanBMPpS",
        "outputId": "f215569e-d00f-4420-8956-61f7a6e435ff"
      },
      "execution_count": null,
      "outputs": [
        {
          "output_type": "stream",
          "name": "stdout",
          "text": [
            "<class 'str'>\n"
          ]
        }
      ]
    },
    {
      "cell_type": "markdown",
      "source": [
        "***Lists***"
      ],
      "metadata": {
        "id": "KYy87LcZc8lj"
      }
    },
    {
      "cell_type": "code",
      "source": [
        "lis=['Hello','123','30.23']\n",
        "type(lis)\n",
        "print(lis)"
      ],
      "metadata": {
        "colab": {
          "base_uri": "https://localhost:8080/"
        },
        "id": "pUWujAXbYxMl",
        "outputId": "77c38fb8-1931-4f75-a35b-dd45d2d5a800"
      },
      "execution_count": null,
      "outputs": [
        {
          "output_type": "stream",
          "name": "stdout",
          "text": [
            "['Hello', '123', '30.23']\n"
          ]
        }
      ]
    },
    {
      "cell_type": "code",
      "source": [
        "lis2=['apple','200','India']\n",
        "print(len(lis))\n",
        "print(len(lis2))\n",
        "lis3=lis+lis2\n",
        "print(lis3)\n",
        "lis2.append(\"Hello\")\n",
        "lis2.clear()\n",
        "lis=['kk','aa','kle']\n",
        "lis[0]\n",
        "lis.sort()"
      ],
      "metadata": {
        "colab": {
          "base_uri": "https://localhost:8080/"
        },
        "id": "V4JdY6GQZNYa",
        "outputId": "a3d6e017-9b7a-4dad-f124-c923d709d0a0"
      },
      "execution_count": null,
      "outputs": [
        {
          "output_type": "stream",
          "name": "stdout",
          "text": [
            "3\n",
            "3\n",
            "['kk', 'aa', 'kle', 'apple', '200', 'India']\n"
          ]
        }
      ]
    },
    {
      "cell_type": "markdown",
      "source": [
        "***Tuples***"
      ],
      "metadata": {
        "id": "kNBQ-LZac2pK"
      }
    },
    {
      "cell_type": "code",
      "source": [
        "tuple=(\"Hubli\",\"Belgaum\",\"Hubli\")\n",
        "print(type(tuple1))\n",
        "tuple2=(\"Hubli\",)\n",
        "print(type(tuple2))\n",
        "tuple3=(1,2,3,4,5)\n",
        "print(type(tuple3))\n",
        "tuple1=(\"Hubli\",\"Dharwad\",\"Hubli\")\n",
        "print(tuple[0])\n",
        "print(tuple[1])\n",
        "print(tuple[-1])\n",
        "tuple6=tuple1+tuple1\n",
        "print(tuple6)\n",
        "tuple7=tuple6*2\n",
        "print(tuple7)\n",
        "y=tuple7.index('Hubli')\n",
        "print(y)\n",
        "x=tuple7.count('Dharwad')\n",
        "print(x)\n"
      ],
      "metadata": {
        "colab": {
          "base_uri": "https://localhost:8080/"
        },
        "id": "gvWZOjYKZ9v8",
        "outputId": "59647b6a-59be-4e5e-adf6-afcfeec0ffe7"
      },
      "execution_count": null,
      "outputs": [
        {
          "output_type": "stream",
          "name": "stdout",
          "text": [
            "<class 'tuple'>\n",
            "<class 'tuple'>\n",
            "<class 'tuple'>\n",
            "Hubli\n",
            "Belgaum\n",
            "Hubli\n",
            "('Hubli', 'Dharwad', 'Hubli', 'Hubli', 'Dharwad', 'Hubli')\n",
            "('Hubli', 'Dharwad', 'Hubli', 'Hubli', 'Dharwad', 'Hubli', 'Hubli', 'Dharwad', 'Hubli', 'Hubli', 'Dharwad', 'Hubli')\n",
            "0\n",
            "4\n"
          ]
        }
      ]
    },
    {
      "cell_type": "code",
      "source": [
        "x=(\"Hubli\",\"Dharwad\",\"belgaum\")\n",
        "print(type(x))\n"
      ],
      "metadata": {
        "colab": {
          "base_uri": "https://localhost:8080/"
        },
        "id": "JytAGyz4djYh",
        "outputId": "9ebf5772-95b1-474f-85d5-9d010b9fe38c"
      },
      "execution_count": null,
      "outputs": [
        {
          "output_type": "stream",
          "name": "stdout",
          "text": [
            "<class 'tuple'>\n"
          ]
        }
      ]
    },
    {
      "cell_type": "code",
      "source": [
        "y=list(x)\n",
        "y[2]='bangalore'\n",
        "print(y)\n"
      ],
      "metadata": {
        "colab": {
          "base_uri": "https://localhost:8080/"
        },
        "id": "7C0-3VDtfao0",
        "outputId": "2ae5c8d1-60b2-41fe-f110-27012f833763"
      },
      "execution_count": null,
      "outputs": [
        {
          "output_type": "stream",
          "name": "stdout",
          "text": [
            "['Hubli', 'Dharwad', 'bangalore']\n"
          ]
        }
      ]
    },
    {
      "cell_type": "code",
      "source": [],
      "metadata": {
        "id": "vWpsnWM0kcV5"
      },
      "execution_count": null,
      "outputs": []
    },
    {
      "cell_type": "markdown",
      "source": [
        "***Sets***"
      ],
      "metadata": {
        "id": "hbqrJuJBkfQZ"
      }
    },
    {
      "cell_type": "code",
      "source": [
        "set1={\"Red\",\"Blue\",\"Black\"}\n",
        "print(set1)\n",
        "set1.add('orange')\n",
        "print(set1)\n",
        "set2={\"ball\",\"bat\",\"wicket\"}\n",
        "set1.update(set2)\n",
        "print(set1)"
      ],
      "metadata": {
        "colab": {
          "base_uri": "https://localhost:8080/"
        },
        "id": "mi4oi7GPkiH6",
        "outputId": "a50ff29b-8007-40d4-feaa-b43394764dfe"
      },
      "execution_count": null,
      "outputs": [
        {
          "output_type": "stream",
          "name": "stdout",
          "text": [
            "{'Black', 'Blue', 'Red'}\n",
            "{'orange', 'Black', 'Blue', 'Red'}\n",
            "{'Black', 'Red', 'wicket', 'bat', 'ball', 'Blue', 'orange'}\n"
          ]
        }
      ]
    },
    {
      "cell_type": "markdown",
      "source": [
        "***Dictanories***"
      ],
      "metadata": {
        "id": "QWjWgVe_a8oI"
      }
    },
    {
      "cell_type": "markdown",
      "source": [],
      "metadata": {
        "id": "DY6NGio7fbml"
      }
    },
    {
      "cell_type": "code",
      "source": [
        "Dict1={\"Name\":\"Kaushik\",\n",
        "       \"Age\":\"30\",\n",
        "       \"Gender\":\"Male\"}\n",
        "  print(Dict1)"
      ],
      "metadata": {
        "colab": {
          "base_uri": "https://localhost:8080/",
          "height": 140
        },
        "id": "PPJEAXJTcXKV",
        "outputId": "92db76ce-29cf-4e82-ca4e-0eea5139d135"
      },
      "execution_count": null,
      "outputs": [
        {
          "output_type": "error",
          "ename": "IndentationError",
          "evalue": "ignored",
          "traceback": [
            "\u001b[0;36m  File \u001b[0;32m\"<ipython-input-9-488aedd3eed3>\"\u001b[0;36m, line \u001b[0;32m4\u001b[0m\n\u001b[0;31m    print(Dict1)\u001b[0m\n\u001b[0m    ^\u001b[0m\n\u001b[0;31mIndentationError\u001b[0m\u001b[0;31m:\u001b[0m unexpected indent\n"
          ]
        }
      ]
    },
    {
      "cell_type": "markdown",
      "source": [
        "***conditional Statements***"
      ],
      "metadata": {
        "id": "MknYn4I6dRyb"
      }
    },
    {
      "cell_type": "markdown",
      "source": [],
      "metadata": {
        "id": "miMsD5zSdXAb"
      }
    },
    {
      "cell_type": "code",
      "source": [
        "a=input(\"enter the value of a\");\n",
        "b=input(\"enter the value of b\");\n",
        "print(a)\n",
        "print(b)\n",
        "if a>b:\n",
        "  print(\"value of a is greater than b\");\n",
        "\n",
        "else:\n",
        "  print(\"value of b is greater than a\");"
      ],
      "metadata": {
        "colab": {
          "base_uri": "https://localhost:8080/"
        },
        "id": "KNsLw_iBdYjY",
        "outputId": "6763c83f-5721-4a53-8270-ae49e632b8d7"
      },
      "execution_count": null,
      "outputs": [
        {
          "output_type": "stream",
          "name": "stdout",
          "text": [
            "enter the value of a30\n",
            "enter the value of b10\n",
            "30\n",
            "10\n",
            "value of a is greater than b\n"
          ]
        }
      ]
    },
    {
      "cell_type": "markdown",
      "source": [
        "***elif***"
      ],
      "metadata": {
        "id": "dCbPXZK7edTZ"
      }
    },
    {
      "cell_type": "code",
      "source": [
        "ball1_colour=\"black\"\n",
        "ball2_colour=\"blue\"\n",
        "ball3_colour=\"red\"\n",
        "ball4_colour=\"green\"\n",
        "pick_ball=input(\"please pick a ball\");\n",
        "if pick_ball==ball1_colour:\n",
        "  print(\"Black ball is picked\")\n",
        "elif pick_ball==ball2_colour:\n",
        "   print(\"Blue ball is picked\")\n",
        "elif pick_ball==ball3_colour:\n",
        "   print(\"red ball is picked\")\n",
        "else:\n",
        "   print(\"Green ball is picked\")"
      ],
      "metadata": {
        "colab": {
          "base_uri": "https://localhost:8080/"
        },
        "id": "C33TI_gmeg6S",
        "outputId": "ae74dc6e-439c-49a0-ba77-37315fc1055d"
      },
      "execution_count": null,
      "outputs": [
        {
          "output_type": "stream",
          "name": "stdout",
          "text": [
            "please pick a ballred\n",
            "red ball is picked\n"
          ]
        }
      ]
    },
    {
      "cell_type": "markdown",
      "source": [
        "**Operators**"
      ],
      "metadata": {
        "id": "RLjYU3TNgYnW"
      }
    },
    {
      "cell_type": "markdown",
      "source": [
        "**1. Arithmatic operators**"
      ],
      "metadata": {
        "id": "HE6MNCfSlZ-3"
      }
    },
    {
      "cell_type": "code",
      "source": [
        "x=10\n",
        "y=5\n",
        "sum=x+y\n",
        "diff=x-y\n",
        "prod=x*y\n",
        "div=x/y\n",
        "fdiv=x//y\n",
        "mod=x%y\n",
        "pow=x**y\n",
        "print(sum)\n",
        "print(diff)\n",
        "print(prod)\n",
        "print(div)\n",
        "print(fdiv)\n",
        "print(mod)\n",
        "print(pow)"
      ],
      "metadata": {
        "colab": {
          "base_uri": "https://localhost:8080/"
        },
        "id": "DgrpHwLWlg2u",
        "outputId": "28f0d02d-0de1-4021-8c72-1bbe9403e678"
      },
      "execution_count": null,
      "outputs": [
        {
          "output_type": "stream",
          "name": "stdout",
          "text": [
            "15\n",
            "5\n",
            "50\n",
            "2.0\n",
            "2\n",
            "0\n",
            "100000\n"
          ]
        }
      ]
    },
    {
      "cell_type": "markdown",
      "source": [
        "***2. Logic operators***"
      ],
      "metadata": {
        "id": "e9VjyOT1msNs"
      }
    },
    {
      "cell_type": "code",
      "source": [
        "age=int(input(\"Enter the age\"))\n",
        "print(type(age))\n",
        "print(age>18 and age<60)\n",
        "print(age>18 or age<21)"
      ],
      "metadata": {
        "id": "XRU18SD2mwcQ",
        "colab": {
          "base_uri": "https://localhost:8080/"
        },
        "outputId": "e9a3161d-8a3c-4087-82a9-2bb88c3d7166"
      },
      "execution_count": null,
      "outputs": [
        {
          "output_type": "stream",
          "name": "stdout",
          "text": [
            "Enter the age25\n",
            "<class 'int'>\n",
            "True\n",
            "True\n"
          ]
        }
      ]
    },
    {
      "cell_type": "markdown",
      "source": [
        "***Bitwise operators***"
      ],
      "metadata": {
        "id": "MmSh-QMyJVMp"
      }
    },
    {
      "cell_type": "code",
      "source": [
        "print(8&12)\n",
        "print(8|12)\n",
        "print(8^12)\n",
        "print(8>>1)\n",
        "print(12<<1)"
      ],
      "metadata": {
        "colab": {
          "base_uri": "https://localhost:8080/"
        },
        "id": "OuM2NBhwJYnB",
        "outputId": "9f80d203-d188-4df1-eb66-20c033d4f362"
      },
      "execution_count": null,
      "outputs": [
        {
          "output_type": "stream",
          "name": "stdout",
          "text": [
            "8\n",
            "12\n",
            "4\n",
            "4\n",
            "24\n"
          ]
        }
      ]
    },
    {
      "cell_type": "markdown",
      "source": [
        "***Assignment Operators***"
      ],
      "metadata": {
        "id": "1hK9K9KaJzO4"
      }
    },
    {
      "cell_type": "code",
      "source": [
        "a=8\n",
        "print(a)\n",
        "a+=3\n",
        "print(a)\n",
        "a-=6\n",
        "print(a)\n",
        "a*=2\n",
        "print(a)"
      ],
      "metadata": {
        "colab": {
          "base_uri": "https://localhost:8080/"
        },
        "id": "_tPo3euzJ3aA",
        "outputId": "a8d8265a-cedb-4aec-86e3-bcc93682e4b6"
      },
      "execution_count": null,
      "outputs": [
        {
          "output_type": "stream",
          "name": "stdout",
          "text": [
            "8\n",
            "11\n",
            "5\n",
            "10\n"
          ]
        }
      ]
    },
    {
      "cell_type": "markdown",
      "source": [
        "***Identity and memborship operators***"
      ],
      "metadata": {
        "id": "THslTVUAJ_mf"
      }
    },
    {
      "cell_type": "code",
      "source": [
        "x=[\"Hubli\",\"Dharwad\"]\n",
        "y=[\"Hubli\",\"Dharwad\"]\n",
        "z=x\n",
        "z=y\n",
        "print(z is x)\n",
        "print(z is y)\n",
        "print(\"Dharwad\" in x)\n",
        "print(\"Hubli\" in y)"
      ],
      "metadata": {
        "colab": {
          "base_uri": "https://localhost:8080/"
        },
        "id": "RijqKAZzKFSF",
        "outputId": "694cb28f-4ec6-4fed-acb3-3cffbd270467"
      },
      "execution_count": null,
      "outputs": [
        {
          "output_type": "stream",
          "name": "stdout",
          "text": [
            "False\n",
            "True\n",
            "True\n",
            "True\n"
          ]
        }
      ]
    },
    {
      "cell_type": "markdown",
      "source": [
        "**Looping**\n",
        "1. While loop"
      ],
      "metadata": {
        "id": "t3_25qcOOVsR"
      }
    },
    {
      "cell_type": "code",
      "source": [
        "num=int(input(\"Enter the number\"))\n",
        "while num<=9:\n",
        "  print(\"number is single digit\")\n",
        "  break\n",
        "while num>9 and num<=99:\n",
        "  print(\"number is double digit\")\n",
        "  break\n",
        "else:\n",
        "  print(\"number has more than 2 digits\")"
      ],
      "metadata": {
        "colab": {
          "base_uri": "https://localhost:8080/"
        },
        "id": "boXUv1lYOdNv",
        "outputId": "e6f3dd2a-0be9-444f-dcc4-34ba3841bbca"
      },
      "execution_count": null,
      "outputs": [
        {
          "output_type": "stream",
          "name": "stdout",
          "text": [
            "Enter the number60\n",
            "number is double digit\n"
          ]
        }
      ]
    },
    {
      "cell_type": "markdown",
      "source": [
        "2. For loop"
      ],
      "metadata": {
        "id": "RXGBulG8PEuR"
      }
    },
    {
      "cell_type": "markdown",
      "source": [
        "**Basic code**"
      ],
      "metadata": {
        "id": "rWgEn6PrPFfD"
      }
    },
    {
      "cell_type": "code",
      "source": [
        "for x in range(1,6):\n",
        "  print(x)\n",
        "for x in range(1,20,2):\n",
        "  print(x)\n"
      ],
      "metadata": {
        "colab": {
          "base_uri": "https://localhost:8080/"
        },
        "id": "QM7HITZuPJoD",
        "outputId": "2a131bb9-ee86-4505-d79a-c9d99b39afc3"
      },
      "execution_count": null,
      "outputs": [
        {
          "output_type": "stream",
          "name": "stdout",
          "text": [
            "1\n",
            "2\n",
            "3\n",
            "4\n",
            "5\n",
            "1\n",
            "3\n",
            "5\n",
            "7\n",
            "9\n",
            "11\n",
            "13\n",
            "15\n",
            "17\n",
            "19\n"
          ]
        }
      ]
    },
    {
      "cell_type": "markdown",
      "source": [
        "***Factorial***"
      ],
      "metadata": {
        "id": "lp3S2rQxPJ47"
      }
    },
    {
      "cell_type": "code",
      "source": [
        "fact=1\n",
        "for num in range(1,6):\n",
        "  fact*=num\n",
        "print(fact)"
      ],
      "metadata": {
        "colab": {
          "base_uri": "https://localhost:8080/"
        },
        "id": "RknmGANEKtaR",
        "outputId": "e436abdc-4933-4961-a417-46268233e420"
      },
      "execution_count": null,
      "outputs": [
        {
          "output_type": "stream",
          "name": "stdout",
          "text": [
            "120\n"
          ]
        }
      ]
    },
    {
      "cell_type": "markdown",
      "source": [
        "***SIngle or Double digit***"
      ],
      "metadata": {
        "id": "xgO0vA-WPRgK"
      }
    },
    {
      "cell_type": "code",
      "source": [
        "for x in range(5,9):\n",
        "  print(\"single digit number\")\n",
        "for x in range(10,99,10):\n",
        "  print(\"double digit number\")"
      ],
      "metadata": {
        "colab": {
          "base_uri": "https://localhost:8080/"
        },
        "id": "aDBkFuPsQE5o",
        "outputId": "f8a191ee-a226-4b45-8126-2525b933f2a4"
      },
      "execution_count": null,
      "outputs": [
        {
          "output_type": "stream",
          "name": "stdout",
          "text": [
            "single digit number\n",
            "single digit number\n",
            "single digit number\n",
            "single digit number\n",
            "double digit number\n",
            "double digit number\n",
            "double digit number\n",
            "double digit number\n",
            "double digit number\n",
            "double digit number\n",
            "double digit number\n",
            "double digit number\n",
            "double digit number\n"
          ]
        }
      ]
    },
    {
      "cell_type": "markdown",
      "source": [
        "Check the given place is present or not"
      ],
      "metadata": {
        "id": "vXKf4j0SPY5f"
      }
    },
    {
      "cell_type": "code",
      "source": [
        "places=[\"Hubli\",\"Dharwad\",\"Haveri\",\"Belagaum\"]\n",
        "for x in places:\n",
        "  print(x)\n",
        "  if x==\"Haveri\":\n",
        "    print(\"found\")\n",
        "    break\n"
      ],
      "metadata": {
        "colab": {
          "base_uri": "https://localhost:8080/"
        },
        "id": "FanbHg-8QIn4",
        "outputId": "baa099cf-6cc2-43ec-e0fe-d62782b2ef24"
      },
      "execution_count": null,
      "outputs": [
        {
          "output_type": "stream",
          "name": "stdout",
          "text": [
            "Hubli\n",
            "Dharwad\n",
            "Haveri\n",
            "found\n"
          ]
        }
      ]
    },
    {
      "cell_type": "markdown",
      "source": [
        "***Functions***"
      ],
      "metadata": {
        "id": "N_Uh8g-aBvAG"
      }
    },
    {
      "cell_type": "code",
      "source": [
        "def cake_baker():\n",
        "  print(\"I am ready to bake\")\n",
        "\n",
        "cake_baker()"
      ],
      "metadata": {
        "colab": {
          "base_uri": "https://localhost:8080/"
        },
        "id": "1_jz8to8Bx9-",
        "outputId": "7fbe62e5-56f4-4d8f-8161-8e452aad2726"
      },
      "execution_count": null,
      "outputs": [
        {
          "output_type": "stream",
          "name": "stdout",
          "text": [
            "I am ready to bake\n"
          ]
        }
      ]
    },
    {
      "cell_type": "code",
      "source": [
        "def cake_baker(p,f,s):\n",
        "  print(\"number of pieces:\",p)\n",
        "  print(\"flavour:\",f)\n",
        "  print(\"size:\",s)\n",
        "cake_baker(\"5\",\"Vanilla\",\"2kg\")\n",
        "cake_baker(\"20\",\"choclate\",\"3kg\")\n",
        "\n"
      ],
      "metadata": {
        "colab": {
          "base_uri": "https://localhost:8080/"
        },
        "id": "LAeUaPnjCEUK",
        "outputId": "d0e026df-4a51-47dd-9b7c-4ebfe0b8a1a7"
      },
      "execution_count": null,
      "outputs": [
        {
          "output_type": "stream",
          "name": "stdout",
          "text": [
            "number of pieces: 5\n",
            "flavour: Vanilla\n",
            "size: 2kg\n",
            "number of pieces: 20\n",
            "flavour: choclate\n",
            "size: 3kg\n"
          ]
        }
      ]
    },
    {
      "cell_type": "markdown",
      "source": [
        "***Args***"
      ],
      "metadata": {
        "id": "wFMMGhDOCqLC"
      }
    },
    {
      "cell_type": "code",
      "source": [
        "def add(*args):\n",
        "  sum=0\n",
        "  for i in args:\n",
        "    sum+=i\n",
        "  return sum\n",
        "print(add(11,20,39,10,59))\n"
      ],
      "metadata": {
        "colab": {
          "base_uri": "https://localhost:8080/"
        },
        "id": "BVt9LP_nGa9e",
        "outputId": "c7619ca8-d551-43ac-e0c1-1e8d97f0bb0f"
      },
      "execution_count": null,
      "outputs": [
        {
          "output_type": "stream",
          "name": "stdout",
          "text": [
            "139\n"
          ]
        }
      ]
    },
    {
      "cell_type": "markdown",
      "source": [
        "**Kwargs**"
      ],
      "metadata": {
        "id": "pMyOzaeuG6Tz"
      }
    },
    {
      "cell_type": "code",
      "source": [
        "def greet(**kwargs):\n",
        "  print(\"Hello\")\n",
        "  for key,value in kwargs.items():\n",
        "    print(value,end=\" \")\n",
        "greet(name=\"Pradhan\",usn=\"01fe21bec098\",branch=\"ECE\")"
      ],
      "metadata": {
        "colab": {
          "base_uri": "https://localhost:8080/"
        },
        "id": "-SgeM6k9PjGu",
        "outputId": "1e525cc1-ae23-4106-917f-05cb9bbfdc55"
      },
      "execution_count": null,
      "outputs": [
        {
          "output_type": "stream",
          "name": "stdout",
          "text": [
            "Hello\n",
            "Pradhan 01fe21bec098 ECE "
          ]
        }
      ]
    },
    {
      "cell_type": "markdown",
      "source": [
        "***Random***"
      ],
      "metadata": {
        "id": "Cx2uIL7Robnj"
      }
    },
    {
      "cell_type": "code",
      "source": [
        "import random\n",
        "x=random.randint(1,9)\n",
        "print(x)\n",
        "\n",
        "a=random.random()\n",
        "print(a)"
      ],
      "metadata": {
        "colab": {
          "base_uri": "https://localhost:8080/"
        },
        "id": "SMu-_gKwoe3e",
        "outputId": "f2e5a807-7cbe-4b6d-fb01-94fd9c09b7ba"
      },
      "execution_count": null,
      "outputs": [
        {
          "output_type": "stream",
          "name": "stdout",
          "text": [
            "1\n",
            "0.7310528795331128\n"
          ]
        }
      ]
    },
    {
      "cell_type": "markdown",
      "source": [
        "***Game-1***"
      ],
      "metadata": {
        "id": "uuZjqWfSo6dW"
      }
    },
    {
      "cell_type": "code",
      "source": [
        "import random\n",
        "comp=random.randint(1,9)\n",
        "userinput=int(input(\"Enter the number between 1 to 9\"))\n",
        "print(comp)\n",
        "print(userinput)\n",
        "if comp>userinput:\n",
        "  print(\"comp won\")\n",
        "elif comp==userinput:\n",
        "  print(\"Tie\")\n",
        "else:\n",
        "  print(\"you won\")"
      ],
      "metadata": {
        "colab": {
          "base_uri": "https://localhost:8080/"
        },
        "id": "rumCaDvDpLyI",
        "outputId": "2b8524d7-3d4b-497e-8d55-8c0fb2c18076"
      },
      "execution_count": null,
      "outputs": [
        {
          "output_type": "stream",
          "name": "stdout",
          "text": [
            "Enter the number between 1 to 95\n",
            "3\n",
            "5\n",
            "you won\n"
          ]
        }
      ]
    },
    {
      "cell_type": "markdown",
      "source": [
        "***Game-2***"
      ],
      "metadata": {
        "id": "j89XL_mkrsR_"
      }
    },
    {
      "cell_type": "code",
      "source": [
        "import random\n",
        "gamelist=['rock','paper','scissor']\n",
        "comp=random.choice(gamelist)\n",
        "user=input(\"enter either rock or paper or scissor\")\n",
        "print(comp)\n",
        "print(user)\n",
        "if(comp==\"rock\" and user==\"scissor\" ):\n",
        "  print(\"computer won\")\n",
        "elif(comp==\"rock\" and user==\"paper\"):\n",
        "  print(\"user won\")\n",
        "else:\n",
        "  print(\"Tie\")"
      ],
      "metadata": {
        "colab": {
          "base_uri": "https://localhost:8080/"
        },
        "id": "Iug7qrIzrwSX",
        "outputId": "ec816408-8557-4e07-c75d-3dc5a9cf19c5"
      },
      "execution_count": null,
      "outputs": [
        {
          "output_type": "stream",
          "name": "stdout",
          "text": [
            "enter either rock or paper or scissorscissor\n",
            "scissor\n",
            "scissor\n",
            "Tie\n"
          ]
        }
      ]
    },
    {
      "cell_type": "markdown",
      "source": [
        "***Numpy Package***"
      ],
      "metadata": {
        "id": "wTdk43xsuhnK"
      }
    },
    {
      "cell_type": "code",
      "source": [
        "import numpy as np\n",
        "a=np.array([35,1,45,39,20,32,49])\n",
        "print(type(a))\n",
        "\n",
        "b=np.zeros(6)\n",
        "c=np.ones(7)\n",
        "print(b)\n",
        "print(c)\n",
        "\n",
        "d=np.sort(a)\n",
        "print(d)"
      ],
      "metadata": {
        "colab": {
          "base_uri": "https://localhost:8080/"
        },
        "id": "GOKyKqBZul2Y",
        "outputId": "634dd51c-5404-488b-b214-044b485aed77"
      },
      "execution_count": null,
      "outputs": [
        {
          "output_type": "stream",
          "name": "stdout",
          "text": [
            "<class 'numpy.ndarray'>\n",
            "[0. 0. 0. 0. 0. 0.]\n",
            "[1. 1. 1. 1. 1. 1. 1.]\n",
            "[ 1 20 32 35 39 45 49]\n"
          ]
        }
      ]
    }
  ]
}